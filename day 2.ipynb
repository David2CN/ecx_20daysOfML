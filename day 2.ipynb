{
 "cells": [
  {
   "cell_type": "code",
   "execution_count": 1,
   "metadata": {},
   "outputs": [
    {
     "name": "stdout",
     "output_type": "stream",
     "text": [
      "The sum is: $11401600.000000002\n",
      "The average is: $22532.806324110676\n",
      "The maximum value is: $50000.0\n",
      "The minimum value is: $5000.0\n",
      "The range is: $45000.0\n"
     ]
    }
   ],
   "source": [
    "import numpy as np\n",
    "import pandas as pd\n",
    "from sklearn.datasets import load_boston\n",
    "\n",
    "boston_dataset = load_boston()\n",
    "column_names = boston_dataset.feature_names\n",
    "\n",
    "boston  = pd.DataFrame(boston_dataset.data, columns = column_names)\n",
    "\n",
    "target_dict = { 'MEDV' : boston_dataset.target}\n",
    "target_var = pd.DataFrame(target_dict)\n",
    "boston = pd.concat([boston, target_var], axis = 1)\n",
    "\n",
    "\n",
    "target_varn = np.array(target_var)\n",
    "print(\"The sum is: ${}\".format(target_varn.sum() * 1000))\n",
    "print(\"The average is: ${}\".format(target_varn.mean() * 1000))\n",
    "print(\"The maximum value is: ${}\".format(target_varn.max() * 1000))\n",
    "print(\"The minimum value is: ${}\".format(target_varn.min() * 1000))\n",
    "print(\"The range is: ${}\".format((target_varn.max() - target_varn.min()) * 1000))"
   ]
  }
 ],
 "metadata": {
  "kernelspec": {
   "display_name": "Python 3",
   "language": "python",
   "name": "python3"
  },
  "language_info": {
   "codemirror_mode": {
    "name": "ipython",
    "version": 3
   },
   "file_extension": ".py",
   "mimetype": "text/x-python",
   "name": "python",
   "nbconvert_exporter": "python",
   "pygments_lexer": "ipython3",
   "version": "3.7.2"
  }
 },
 "nbformat": 4,
 "nbformat_minor": 4
}
