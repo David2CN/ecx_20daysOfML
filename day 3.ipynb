{
 "cells": [
  {
   "cell_type": "code",
   "execution_count": 3,
   "metadata": {},
   "outputs": [
    {
     "name": "stdout",
     "output_type": "stream",
     "text": [
      "   sepal_length  sepal_width  petal_length  petal_width  species\n",
      "0           5.1          3.5           1.4          0.2        0\n",
      "1           4.9          3.0           1.4          0.2        0\n",
      "2           4.7          3.2           1.3          0.2        0\n",
      "3           4.6          3.1           1.5          0.2        0\n",
      "4           5.0          3.6           1.4          0.2        0\n",
      "       sepal_length  sepal_width  petal_length  petal_width     species\n",
      "count    150.000000   150.000000    150.000000   150.000000  150.000000\n",
      "mean       5.843333     3.057333      3.758000     1.199333    1.000000\n",
      "std        0.828066     0.435866      1.765298     0.762238    0.819232\n",
      "min        4.300000     2.000000      1.000000     0.100000    0.000000\n",
      "25%        5.100000     2.800000      1.600000     0.300000    0.000000\n",
      "50%        5.800000     3.000000      4.350000     1.300000    1.000000\n",
      "75%        6.400000     3.300000      5.100000     1.800000    2.000000\n",
      "max        7.900000     4.400000      6.900000     2.500000    2.000000\n",
      "(150, 5)\n"
     ]
    }
   ],
   "source": [
    "import numpy as np\n",
    "import pandas as pd\n",
    "from sklearn.datasets import load_iris\n",
    "\n",
    "iris_ds = load_iris()\n",
    "column_names = [\"sepal_length\", \"sepal_width\", \"petal_length\", \"petal_width\"]\n",
    "\n",
    "iris = pd.DataFrame(iris_ds.data, columns = column_names)\n",
    "iris['species'] = iris_ds.target\n",
    "\n",
    "print(iris.head())\n",
    "print(iris.describe())\n",
    "print(iris.shape)"
   ]
  },
  {
   "cell_type": "code",
   "execution_count": 4,
   "metadata": {},
   "outputs": [
    {
     "name": "stdout",
     "output_type": "stream",
     "text": [
      "              sepal_length  sepal_width  petal_length  petal_width   species\n",
      "sepal_length      1.000000    -0.166778      0.881898     0.834289  0.798078\n",
      "sepal_width      -0.166778     1.000000     -0.309635    -0.289032 -0.440290\n",
      "petal_length      0.881898    -0.309635      1.000000     0.937667  0.935431\n",
      "petal_width       0.834289    -0.289032      0.937667     1.000000  0.938179\n",
      "species           0.798078    -0.440290      0.935431     0.938179  1.000000\n"
     ]
    }
   ],
   "source": [
    "spearman = iris.corr(method = \"spearman\")\n",
    "#spearman is a dataframe containing all the correlations of the features with themselves and the target(species).\n",
    "print(spearman)"
   ]
  },
  {
   "cell_type": "markdown",
   "metadata": {},
   "source": [
    "The petal length and width correlates strongly with the species, they would be good features for training the model."
   ]
  },
  {
   "cell_type": "code",
   "execution_count": 5,
   "metadata": {},
   "outputs": [
    {
     "data": {
      "text/plain": [
       "<matplotlib.axes._subplots.AxesSubplot at 0x6c5096f0>"
      ]
     },
     "execution_count": 5,
     "metadata": {},
     "output_type": "execute_result"
    },
    {
     "data": {
      "image/png": "[encoded data removed]",
      "text/plain": [
       "<Figure size 432x288 with 1 Axes>"
      ]
     },
     "metadata": {
      "needs_background": "light"
     },
     "output_type": "display_data"
    }
   ],
   "source": [
    "import matplotlib.pyplot as plt\n",
    "%matplotlib inline\n",
    "\n",
    "iris.plot(kind = \"scatter\", x = \"species\", y = \"sepal_length\")"
   ]
  },
  {
   "cell_type": "markdown",
   "metadata": {},
   "source": [
    "The points overlap, it is hard to distinguish them as similar lengths fall under different species."
   ]
  },
  {
   "cell_type": "code",
   "execution_count": 6,
   "metadata": {},
   "outputs": [
    {
     "data": {
      "text/plain": [
       "<matplotlib.axes._subplots.AxesSubplot at 0x6b3acc70>"
      ]
     },
     "execution_count": 6,
     "metadata": {},
     "output_type": "execute_result"
    },
    {
     "data": {
      "image/png": "[encoded data removed]",
      "text/plain": [
       "<Figure size 432x288 with 1 Axes>"
      ]
     },
     "metadata": {
      "needs_background": "light"
     },
     "output_type": "display_data"
    }
   ],
   "source": [
    "iris.plot(kind = \"scatter\", x = \"species\", y = \"sepal_width\")"
   ]
  },
  {
   "cell_type": "markdown",
   "metadata": {},
   "source": [
    "The points also overlap, with similar widths falling under different species.\n",
    "This shows that the sepal width and length are poorly correlated with the species type."
   ]
  },
  {
   "cell_type": "code",
   "execution_count": 7,
   "metadata": {},
   "outputs": [
    {
     "data": {
      "text/plain": [
       "<matplotlib.axes._subplots.AxesSubplot at 0x6b142070>"
      ]
     },
     "execution_count": 7,
     "metadata": {},
     "output_type": "execute_result"
    },
    {
     "data": {
      "image/png": "[encoded data removed]",
      "text/plain": [
       "<Figure size 432x288 with 1 Axes>"
      ]
     },
     "metadata": {
      "needs_background": "light"
     },
     "output_type": "display_data"
    }
   ],
   "source": [
    "iris.plot(kind = \"scatter\", x = \"species\", y = \"petal_length\")"
   ]
  },
  {
   "cell_type": "markdown",
   "metadata": {},
   "source": [
    "The plot shows a good correlation between the petal length and species type. \n",
    "We can immediately identify specie 0, though we notice that some of the points overlap for species 1 and 2. This indicates that 1 and 2 are similar and hard to differentiate from each other."
   ]
  },
  {
   "cell_type": "code",
   "execution_count": 8,
   "metadata": {},
   "outputs": [
    {
     "data": {
      "text/plain": [
       "<matplotlib.axes._subplots.AxesSubplot at 0x6b17a530>"
      ]
     },
     "execution_count": 8,
     "metadata": {},
     "output_type": "execute_result"
    },
    {
     "data": {
      "image/png": "[encoded data removed]",
      "text/plain": [
       "<Figure size 432x288 with 1 Axes>"
      ]
     },
     "metadata": {
      "needs_background": "light"
     },
     "output_type": "display_data"
    }
   ],
   "source": [
    "iris.plot(kind = \"scatter\", x = \"species\", y = \"petal_width\")"
   ]
  },
  {
   "cell_type": "markdown",
   "metadata": {},
   "source": [
    "The plot shows a good correlation between the petal width and species type. \n",
    "We can also identify specie 0 easily, though we also notice that some of the points overlap for species 1 and 2."
   ]
  },
  {
   "cell_type": "markdown",
   "metadata": {},
   "source": [
    "We can conclude that the petal width and length would be the best choices as a feature to build a model with.\n",
    "Species 0, 1 and 2 refer to Iris-Setosa, Iris-Versicolour and Iris-Virginica respectively."
   ]
  },
  {
   "cell_type": "code",
   "execution_count": 9,
   "metadata": {},
   "outputs": [
    {
     "name": "stderr",
     "output_type": "stream",
     "text": [
      "/data/user/0/ru.iiec.pydroid3/files/arm-linux-androideabi/lib/python3.7/site-packages/sklearn/preprocessing/data.py:625: DataConversionWarning: Data with input dtype int32, float64 were all converted to float64 by StandardScaler.\n",
      "  return self.partial_fit(X, y)\n",
      "/data/user/0/ru.iiec.pydroid3/files/arm-linux-androideabi/lib/python3.7/site-packages/ipykernel_launcher.py:4: DataConversionWarning: Data with input dtype int32, float64 were all converted to float64 by StandardScaler.\n",
      "  after removing the cwd from sys.path.\n"
     ]
    },
    {
     "name": "stdout",
     "output_type": "stream",
     "text": [
      "   sepal_length  sepal_width  petal_length  petal_width   species\n",
      "0     -0.900681     1.019004     -1.340227    -1.315444 -1.224745\n",
      "1     -1.143017    -0.131979     -1.340227    -1.315444 -1.224745\n",
      "2     -1.385353     0.328414     -1.397064    -1.315444 -1.224745\n",
      "3     -1.506521     0.098217     -1.283389    -1.315444 -1.224745\n",
      "4     -1.021849     1.249201     -1.340227    -1.315444 -1.224745\n",
      "       sepal_length   sepal_width  petal_length   petal_width       species\n",
      "count  1.500000e+02  1.500000e+02  1.500000e+02  1.500000e+02  1.500000e+02\n",
      "mean  -4.736952e-16 -7.815970e-16 -4.263256e-16 -4.736952e-16 -1.421085e-16\n",
      "std    1.003350e+00  1.003350e+00  1.003350e+00  1.003350e+00  1.003350e+00\n",
      "min   -1.870024e+00 -2.433947e+00 -1.567576e+00 -1.447076e+00 -1.224745e+00\n",
      "25%   -9.006812e-01 -5.923730e-01 -1.226552e+00 -1.183812e+00 -1.224745e+00\n",
      "50%   -5.250608e-02 -1.319795e-01  3.364776e-01  1.325097e-01  0.000000e+00\n",
      "75%    6.745011e-01  5.586108e-01  7.627583e-01  7.906707e-01  1.224745e+00\n",
      "max    2.492019e+00  3.090775e+00  1.785832e+00  1.712096e+00  1.224745e+00\n",
      "(150, 5)\n"
     ]
    }
   ],
   "source": [
    "from sklearn.preprocessing import StandardScaler\n",
    "scale = StandardScaler()\n",
    "scale.fit(iris)\n",
    "scaled_iris = scale.transform(iris)\n",
    "\n",
    "scaled_iris = pd.DataFrame(scaled_iris, columns = column_names + [\"species\"])\n",
    "\n",
    "print(scaled_iris.head())\n",
    "print(scaled_iris.describe())\n",
    "print(scaled_iris.shape)"
   ]
  }
 ],
 "metadata": {
  "kernelspec": {
   "display_name": "Python 3",
   "language": "python",
   "name": "python3"
  },
  "language_info": {
   "codemirror_mode": {
    "name": "ipython",
    "version": 3
   },
   "file_extension": ".py",
   "mimetype": "text/x-python",
   "name": "python",
   "nbconvert_exporter": "python",
   "pygments_lexer": "ipython3",
   "version": "3.7.2"
  }
 },
 "nbformat": 4,
 "nbformat_minor": 4
}
