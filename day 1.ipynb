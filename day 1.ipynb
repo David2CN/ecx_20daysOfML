{
 "cells": [
  {
   "cell_type": "code",
   "execution_count": 50,
   "metadata": {},
   "outputs": [],
   "source": [
    "import pandas as pd\n",
    "from sklearn.datasets import load_boston\n",
    "\n",
    "boston_dataset = load_boston()\n",
    "column_names = boston_dataset.feature_names\n",
    "boston = pd.DataFrame(boston_dataset.data, columns = column_names)\n",
    "\n",
    "target_dict = { 'MEDV' : boston_dataset.target}\n",
    "#MEDV is the median value in $1000\n",
    "target_var = pd.DataFrame(target_dict)\n",
    "boston = pd.concat([boston, target_var], axis = 1)\n",
    "\n",
    "#print(boston.shape)"
   ]
  }
 ],
 "metadata": {
  "kernelspec": {
   "display_name": "Python 3",
   "language": "python",
   "name": "python3"
  },
  "language_info": {
   "codemirror_mode": {
    "name": "ipython",
    "version": 3
   },
   "file_extension": ".py",
   "mimetype": "text/x-python",
   "name": "python",
   "nbconvert_exporter": "python",
   "pygments_lexer": "ipython3",
   "version": "3.7.2"
  }
 },
 "nbformat": 4,
 "nbformat_minor": 4
}
